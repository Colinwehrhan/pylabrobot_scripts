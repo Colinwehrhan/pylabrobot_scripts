{
 "cells": [
  {
   "cell_type": "code",
   "execution_count": 1,
   "id": "b23978a9-2511-4766-9578-72e89b98b3f8",
   "metadata": {},
   "outputs": [
    {
     "name": "stdout",
     "output_type": "stream",
     "text": [
      "C:\\pylab_env\\env\\Scripts\\python.exe\n"
     ]
    }
   ],
   "source": [
    "import sys\n",
    "print(sys.executable)"
   ]
  },
  {
   "cell_type": "code",
   "execution_count": 3,
   "id": "bd68e5cc-e70b-4b83-a019-c107862f7d76",
   "metadata": {},
   "outputs": [],
   "source": [
    "from pylabrobot.liquid_handling import LiquidHandler\n",
    "from pylabrobot.liquid_handling.backends import LiquidHandlerChatterboxBackend\n",
    "from pylabrobot.visualizer.visualizer import Visualizer"
   ]
  },
  {
   "cell_type": "code",
   "execution_count": 4,
   "id": "6c1eda87-c1ee-41a4-9c2f-9964c052eeba",
   "metadata": {},
   "outputs": [],
   "source": [
    "from pylabrobot.resources.hamilton import STARLetDeck"
   ]
  },
  {
   "cell_type": "code",
   "execution_count": 5,
   "id": "3128c1e2-f81c-47e6-9667-9baaeddc3456",
   "metadata": {},
   "outputs": [],
   "source": [
    "lh = LiquidHandler(backend=LiquidHandlerChatterboxBackend(), deck=STARLetDeck())"
   ]
  },
  {
   "cell_type": "code",
   "execution_count": 6,
   "id": "5b1f5d39-2713-4180-a66d-db7063d4813c",
   "metadata": {},
   "outputs": [
    {
     "name": "stdout",
     "output_type": "stream",
     "text": [
      "Setting up the liquid handler.\n",
      "Resource deck was assigned to the liquid handler.\n",
      "Resource trash was assigned to the liquid handler.\n",
      "Resource trash_core96 was assigned to the liquid handler.\n",
      "Resource teaching_carrier was assigned to the liquid handler.\n"
     ]
    }
   ],
   "source": [
    "await lh.setup()"
   ]
  },
  {
   "cell_type": "code",
   "execution_count": 7,
   "id": "6eb1cb88-2350-46b2-8b26-0dc05bb109d4",
   "metadata": {},
   "outputs": [
    {
     "name": "stdout",
     "output_type": "stream",
     "text": [
      "Websocket server started at http://127.0.0.1:2121\n",
      "File server started at http://127.0.0.1:1337 . Open this URL in your browser.\n"
     ]
    }
   ],
   "source": [
    "vis = Visualizer(resource=lh)\n",
    "await vis.setup()"
   ]
  },
  {
   "cell_type": "code",
   "execution_count": 8,
   "id": "dc429229-02ae-4d33-a4ab-79262743e4cb",
   "metadata": {},
   "outputs": [],
   "source": [
    "from pylabrobot.resources import (\n",
    "    TIP_CAR_480_A00,\n",
    "    PLT_CAR_L5AC_A00,\n",
    "    Cor_96_wellplate_360ul_Fb,\n",
    "    HTF\n",
    ")"
   ]
  },
  {
   "cell_type": "code",
   "execution_count": 9,
   "id": "e73fb561-d971-4fbf-9b42-4183d5911293",
   "metadata": {},
   "outputs": [],
   "source": [
    "tip_car = TIP_CAR_480_A00(name='tip carrier')\n",
    "tip_car[0] = tip_rack1 = HTF(name='tips_01', with_tips=False)\n",
    "tip_car[1] = tip_rack2 = HTF(name='tips_02', with_tips=False)\n",
    "tip_car[2] = tip_rack3 = HTF(name='tips_03', with_tips=False)\n",
    "tip_car[3] = tip_rack4 = HTF(name='tips_04', with_tips=False)\n",
    "tip_car[4] = tip_rack5 = HTF(name='tips_05', with_tips=False)"
   ]
  },
  {
   "cell_type": "code",
   "execution_count": 11,
   "id": "d004f2d5-1587-47d5-8ccb-5533f6832731",
   "metadata": {},
   "outputs": [
    {
     "name": "stdout",
     "output_type": "stream",
     "text": [
      "Resource tip carrier was assigned to the liquid handler.\n"
     ]
    }
   ],
   "source": [
    "lh.deck.assign_child_resource(tip_car, rails=15)"
   ]
  }
 ],
 "metadata": {
  "kernelspec": {
   "display_name": "Python (env)",
   "language": "python",
   "name": "env"
  },
  "language_info": {
   "codemirror_mode": {
    "name": "ipython",
    "version": 3
   },
   "file_extension": ".py",
   "mimetype": "text/x-python",
   "name": "python",
   "nbconvert_exporter": "python",
   "pygments_lexer": "ipython3",
   "version": "3.12.1"
  }
 },
 "nbformat": 4,
 "nbformat_minor": 5
}
