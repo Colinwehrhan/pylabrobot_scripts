{
 "cells": [
  {
   "cell_type": "code",
   "execution_count": 53,
   "id": "b23978a9-2511-4766-9578-72e89b98b3f8",
   "metadata": {},
   "outputs": [
    {
     "name": "stdout",
     "output_type": "stream",
     "text": [
      "c:\\pylab_env\\env\\Scripts\\python.exe\n"
     ]
    }
   ],
   "source": [
    "import sys\n",
    "print(sys.executable)"
   ]
  },
  {
   "cell_type": "code",
   "execution_count": 54,
   "id": "3737156b",
   "metadata": {},
   "outputs": [],
   "source": [
    "import pandas as pd\n",
    "import PyQt6\n",
    "import math"
   ]
  },
  {
   "cell_type": "code",
   "execution_count": 55,
   "id": "2788b621",
   "metadata": {},
   "outputs": [
    {
     "name": "stdout",
     "output_type": "stream",
     "text": [
      "  sample source_barcode soure_well destination_barcode destination_well  \\\n",
      "0  test1           bar1         A1                bar4               A1   \n",
      "1  test2           bar2         A1                bar4               B1   \n",
      "2  test3           bar3         A1                bar4               C1   \n",
      "3  test4           bar1         B1                bar4               D1   \n",
      "4  test5           bar2         B1                bar4               E1   \n",
      "\n",
      "   transfer_volume  \n",
      "0                1  \n",
      "1                2  \n",
      "2               20  \n",
      "3               60  \n",
      "4              200  \n"
     ]
    }
   ],
   "source": [
    "df = pd.read_csv(\"C:\\\\pylabrobot_scripts\\\\test_cherry_pick.csv\")\n",
    "print(df.head())\n",
    "\n",
    "# get how many unique source plates and destination plates there are\n",
    "source_plates = df['source_barcode'].unique\n",
    "destination_plates = df['destination_barcode'].unique\n",
    "\n",
    "#get the total amount of transfers, for a cherrypick this is the amount of tips to allocate\n",
    "tip_count = len(df.index)\n",
    "\n",
    "#calc the number of tip racks this will require, a tip rack holds 96 tips\n",
    "rack_count = math.ceil((tip_count/96))\n",
    "\n",
    "#calc the number of of tip carriers, you can fit five tip racks on a carrier\n",
    "tip_carrrier_count = math.ceil((rack_count/5))\n"
   ]
  },
  {
   "cell_type": "code",
   "execution_count": 56,
   "id": "bd68e5cc-e70b-4b83-a019-c107862f7d76",
   "metadata": {},
   "outputs": [],
   "source": [
    "from pylabrobot.liquid_handling import LiquidHandler\n",
    "from pylabrobot.liquid_handling.backends import LiquidHandlerChatterboxBackend\n",
    "from pylabrobot.visualizer.visualizer import Visualizer"
   ]
  },
  {
   "cell_type": "code",
   "execution_count": 57,
   "id": "6c1eda87-c1ee-41a4-9c2f-9964c052eeba",
   "metadata": {},
   "outputs": [],
   "source": [
    "from pylabrobot.resources.hamilton import STARLetDeck"
   ]
  },
  {
   "cell_type": "code",
   "execution_count": 58,
   "id": "3128c1e2-f81c-47e6-9667-9baaeddc3456",
   "metadata": {},
   "outputs": [],
   "source": [
    "lh = LiquidHandler(backend=LiquidHandlerChatterboxBackend(), deck=STARLetDeck())"
   ]
  },
  {
   "cell_type": "code",
   "execution_count": 59,
   "id": "5b1f5d39-2713-4180-a66d-db7063d4813c",
   "metadata": {},
   "outputs": [
    {
     "name": "stdout",
     "output_type": "stream",
     "text": [
      "Setting up the liquid handler.\n",
      "Resource deck was assigned to the liquid handler.\n",
      "Resource trash was assigned to the liquid handler.\n",
      "Resource trash_core96 was assigned to the liquid handler.\n",
      "Resource teaching_carrier was assigned to the liquid handler.\n"
     ]
    }
   ],
   "source": [
    "await lh.setup()"
   ]
  },
  {
   "cell_type": "code",
   "execution_count": 60,
   "id": "6eb1cb88-2350-46b2-8b26-0dc05bb109d4",
   "metadata": {},
   "outputs": [
    {
     "name": "stdout",
     "output_type": "stream",
     "text": [
      "Websocket server started at http://127.0.0.1:2126\n",
      "File server started at http://127.0.0.1:1337 . Open this URL in your browser.\n"
     ]
    }
   ],
   "source": [
    "vis = Visualizer(resource=lh)\n",
    "await vis.setup()"
   ]
  },
  {
   "cell_type": "code",
   "execution_count": 61,
   "id": "dc429229-02ae-4d33-a4ab-79262743e4cb",
   "metadata": {},
   "outputs": [],
   "source": [
    "from pylabrobot.resources import (\n",
    "    TIP_CAR_480_A00,\n",
    "    PLT_CAR_L5AC_A00,\n",
    "    Cor_96_wellplate_360ul_Fb,\n",
    "    HTF\n",
    ")"
   ]
  },
  {
   "cell_type": "code",
   "execution_count": 62,
   "id": "e73fb561-d971-4fbf-9b42-4183d5911293",
   "metadata": {},
   "outputs": [],
   "source": [
    "tip_car= TIP_CAR_480_A00(name='tip carrier')\n",
    "tip_car[0] = tip_rack1 = HTF(name='tips_01', with_tips=False)\n",
    "tip_car[1] = tip_rack2 = HTF(name='tips_02', with_tips=False)\n",
    "tip_car[2] = tip_rack3 = HTF(name='tips_03', with_tips=False)\n",
    "tip_car[3] = tip_rack4 = HTF(name='tips_04', with_tips=False)\n",
    "tip_car[4] = tip_rack5 = HTF(name='tips_05', with_tips=False)"
   ]
  },
  {
   "cell_type": "code",
   "execution_count": 63,
   "id": "d004f2d5-1587-47d5-8ccb-5533f6832731",
   "metadata": {},
   "outputs": [
    {
     "name": "stdout",
     "output_type": "stream",
     "text": [
      "Resource tip carrier was assigned to the liquid handler.\n"
     ]
    }
   ],
   "source": [
    "lh.deck.assign_child_resource(tip_car, rails=10)"
   ]
  },
  {
   "cell_type": "code",
   "execution_count": 64,
   "id": "9e97fad8",
   "metadata": {},
   "outputs": [],
   "source": [
    "plt_car = PLT_CAR_L5AC_A00(name='plate carrier')\n",
    "plt_car[0] = plate_1 = Cor_96_wellplate_360ul_Fb(name='plate_01')\n",
    "plt_car[1] = plate_2 = Cor_96_wellplate_360ul_Fb(name='plate_02')\n",
    "plt_car[2] = plate_3 = Cor_96_wellplate_360ul_Fb(name='plate_03')"
   ]
  },
  {
   "cell_type": "code",
   "execution_count": 65,
   "id": "bad5214c",
   "metadata": {},
   "outputs": [
    {
     "name": "stdout",
     "output_type": "stream",
     "text": [
      "Resource plate carrier was assigned to the liquid handler.\n"
     ]
    }
   ],
   "source": [
    "lh.deck.assign_child_resource(plt_car, rails=1)"
   ]
  },
  {
   "cell_type": "code",
   "execution_count": 66,
   "id": "60e1b0e5",
   "metadata": {},
   "outputs": [],
   "source": [
    "tip_rack1.fill()"
   ]
  },
  {
   "cell_type": "code",
   "execution_count": 67,
   "id": "05b8ef51",
   "metadata": {},
   "outputs": [],
   "source": [
    "plate_1_liquids = [[(None, 500)]]*96\n",
    "plate_1.set_well_liquids(plate_1_liquids)"
   ]
  },
  {
   "cell_type": "code",
   "execution_count": 68,
   "id": "b212d510",
   "metadata": {},
   "outputs": [],
   "source": [
    "plate_2_liquids = [[(None, 100)], [(None, 500)]]*(96//2)\n",
    "plate_2.set_well_liquids(plate_2_liquids)"
   ]
  }
 ],
 "metadata": {
  "kernelspec": {
   "display_name": "env",
   "language": "python",
   "name": "python3"
  },
  "language_info": {
   "codemirror_mode": {
    "name": "ipython",
    "version": 3
   },
   "file_extension": ".py",
   "mimetype": "text/x-python",
   "name": "python",
   "nbconvert_exporter": "python",
   "pygments_lexer": "ipython3",
   "version": "3.12.1"
  }
 },
 "nbformat": 4,
 "nbformat_minor": 5
}
